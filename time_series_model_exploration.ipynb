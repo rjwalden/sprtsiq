{
 "cells": [
  {
   "cell_type": "markdown",
   "metadata": {},
   "source": [
    "<h1><img src='https://sprtsiq.com/img/logo/SprtsIQ_Logo.png' width='15%' style='padding-right: 50px'></img>Time Series Model Exploration</h1>\n"
   ]
  },
  {
   "cell_type": "code",
   "execution_count": 1,
   "metadata": {},
   "outputs": [],
   "source": [
    "import torch\n",
    "from torch import nn, optim\n",
    "from torch.utils.data import Dataset, DataLoader\n",
    "import numpy as np\n",
    "import pandas as pd\n",
    "import matplotlib.pyplot as plt\n",
    "import seaborn as sns\n",
    "from sklearn.preprocessing import MinMaxScaler\n",
    "from sklearn.metrics import balanced_accuracy_score\n",
    "from sklearn.model_selection import train_test_split\n",
    "from utils import plotting\n",
    "from tqdm.auto import tqdm, trange\n",
    "from utils import palette\n",
    "from celluloid import Camera\n",
    "from IPython.display import HTML\n",
    "tqdm.pandas(colour=palette.colors[0], desc='Building dataset')"
   ]
  },
  {
   "cell_type": "code",
   "execution_count": 2,
   "metadata": {},
   "outputs": [],
   "source": [
    "%load_ext autoreload"
   ]
  },
  {
   "cell_type": "code",
   "execution_count": 3,
   "metadata": {},
   "outputs": [],
   "source": [
    "RANDOM_STATE = 42"
   ]
  },
  {
   "cell_type": "code",
   "execution_count": 4,
   "metadata": {},
   "outputs": [],
   "source": [
    "# Reading the data\n",
    "df = pd.read_excel('data/GameStatsTeamVsOpponentRegPostV2_edited.xlsx', engine='openpyxl')"
   ]
  },
  {
   "cell_type": "code",
   "execution_count": 5,
   "metadata": {},
   "outputs": [],
   "source": [
    "# CUDA for PyTorch\n",
    "use_cuda = torch.cuda.is_available()\n",
    "device = torch.device(\"cuda:0\" if use_cuda else \"cpu\")\n",
    "torch.backends.cudnn.benchmark = True"
   ]
  },
  {
   "cell_type": "markdown",
   "metadata": {},
   "source": [
    "## Data Cleaning"
   ]
  },
  {
   "cell_type": "code",
   "execution_count": 7,
   "metadata": {},
   "outputs": [],
   "source": [
    "df = df[df.MoneyLineWinLoss != 'Tie']\n",
    "df = df[df.SeasonType == 1] # NOTE: WHY, drops ~300\n",
    "df = df.drop(columns=['GameKey', 'SeasonType'])"
   ]
  },
  {
   "cell_type": "code",
   "execution_count": 8,
   "metadata": {},
   "outputs": [
    {
     "name": "stdout",
     "output_type": "stream",
     "text": [
      "Null values found in data\n"
     ]
    }
   ],
   "source": [
    "if not len(df.dropna()) == len(df):\n",
    "    print('Null values found in data')\n",
    "else:\n",
    "    print('Data clean of null values')"
   ]
  },
  {
   "cell_type": "code",
   "execution_count": 9,
   "metadata": {},
   "outputs": [
    {
     "name": "stdout",
     "output_type": "stream",
     "text": [
      "<class 'pandas.core.frame.DataFrame'>\n",
      "Int64Index: 7660 entries, 0 to 7987\n",
      "Data columns (total 118 columns):\n",
      " #    Column                                 Non-Null Count  Dtype         \n",
      "---   ------                                 --------------  -----         \n",
      " 0    MoneyLineWinLoss                       7660 non-null   object        \n",
      " 1    WinLossMargin                          7660 non-null   int64         \n",
      " 2    SpreadWinLoss                          7660 non-null   object        \n",
      " 3    SpreadWinLossMargin                    7660 non-null   float64       \n",
      " 4    OverUnderResult                        7660 non-null   object        \n",
      " 5    OverUnderMargin                        7660 non-null   float64       \n",
      " 6    GameStatus                             7660 non-null   object        \n",
      " 7    Date                                   7660 non-null   datetime64[ns]\n",
      " 8    Season                                 7660 non-null   int64         \n",
      " 9    Week                                   7660 non-null   int64         \n",
      " 10   RunningWeek                            7660 non-null   int64         \n",
      " 11   Team                                   7660 non-null   object        \n",
      " 12   Opponent                               7660 non-null   object        \n",
      " 13   HomeOrAway                             7660 non-null   object        \n",
      " 14   Points Scored                          7660 non-null   int64         \n",
      " 15   Points Allowed                         7660 non-null   int64         \n",
      " 16   TotalScore                             7660 non-null   int64         \n",
      " 17   Stadium                                7660 non-null   object        \n",
      " 18   PlayingSurface                         7558 non-null   object        \n",
      " 19   Temperature                            7598 non-null   float64       \n",
      " 20   Humidity                               7582 non-null   float64       \n",
      " 21   WindSpeed                              7576 non-null   float64       \n",
      " 22   OverUnder                              7660 non-null   float64       \n",
      " 23   PointSpread                            7660 non-null   float64       \n",
      " 24   FavoriteUnderdog                       7660 non-null   object        \n",
      " 25   PointsScoredQuarter1                   7660 non-null   int64         \n",
      " 26   PointsScoredQuarter2                   7660 non-null   int64         \n",
      " 27   PointsScoredQuarter3                   7660 non-null   int64         \n",
      " 28   PointsScoredQuarter4                   7660 non-null   int64         \n",
      " 29   PointsScoredOvertime                   7660 non-null   int64         \n",
      " 30   PointsAllowedQuarter1                  7660 non-null   int64         \n",
      " 31   PointsAllowedScoreQuarter2             7660 non-null   int64         \n",
      " 32   PointsAllowedQuarter3                  7660 non-null   int64         \n",
      " 33   PointsAllowedQuarter4                  7660 non-null   int64         \n",
      " 34   PointsAllowedOvertime                  7660 non-null   int64         \n",
      " 35   Touchdowns                             7660 non-null   int64         \n",
      " 36   TouchdownsAllowed                      7660 non-null   int64         \n",
      " 37   TurnoverDifferential                   7660 non-null   int64         \n",
      " 38   Giveaways                              7660 non-null   int64         \n",
      " 39   TimeOfPossessionInSeconds              7660 non-null   int64         \n",
      " 40   FirstDowns                             7660 non-null   int64         \n",
      " 41   FirstDownsByRushing                    7660 non-null   int64         \n",
      " 42   FirstDownsByPassing                    7660 non-null   int64         \n",
      " 43   FirstDownsByPenalty                    7660 non-null   int64         \n",
      " 44   OffensivePlays                         7660 non-null   int64         \n",
      " 45   OffensiveYards                         7660 non-null   int64         \n",
      " 46   OffensiveTouchdowns                    7660 non-null   int64         \n",
      " 47   RushingAttempts                        7660 non-null   int64         \n",
      " 48   RushingYards                           7660 non-null   int64         \n",
      " 49   RushingTouchdowns                      7660 non-null   int64         \n",
      " 50   PassingAttempts                        7660 non-null   int64         \n",
      " 51   PassingCompletions                     7660 non-null   int64         \n",
      " 52   PassingYards                           7660 non-null   int64         \n",
      " 53   PassingTouchdowns                      7660 non-null   int64         \n",
      " 54   PassingInterceptions                   7660 non-null   int64         \n",
      " 55   PasserRating                           7660 non-null   float64       \n",
      " 56   ThirdDownAttempts                      7660 non-null   int64         \n",
      " 57   ThirdDownConversions                   7660 non-null   int64         \n",
      " 58   FourthDownAttempts                     7660 non-null   int64         \n",
      " 59   FourthDownConversions                  7660 non-null   int64         \n",
      " 60   RedZoneAttempts                        7660 non-null   int64         \n",
      " 61   RedZoneConversions                     7660 non-null   int64         \n",
      " 62   GoalToGoAttempts                       7660 non-null   int64         \n",
      " 63   GoalToGoConversions                    7660 non-null   int64         \n",
      " 64   OffensiveFumbles                       7660 non-null   int64         \n",
      " 65   OffensiveFumblesLost                   7660 non-null   int64         \n",
      " 66   OffensiveTimesSacked                   7660 non-null   int64         \n",
      " 67   OfensiveSackedYards                    7660 non-null   int64         \n",
      " 68   OffensiveQuarterbackHit                7660 non-null   int64         \n",
      " 69   RunnerTackledForLoss                   7660 non-null   int64         \n",
      " 70   SafetiesGivenUp                        7660 non-null   int64         \n",
      " 71   PassingDropbacks                       7660 non-null   int64         \n",
      " 72   Takeaways                              7660 non-null   int64         \n",
      " 73   DefensiveQuarterbackHits               7660 non-null   int64         \n",
      " 74   DefensiveTacklesForLoss                7660 non-null   int64         \n",
      " 75   DefensiveSafeties                      7660 non-null   int64         \n",
      " 76   TimeOnDefenseInSeconds                 7660 non-null   int64         \n",
      " 77   FirstDownsAllowed                      7660 non-null   int64         \n",
      " 78   FirstDownsByRushingAllowed             7660 non-null   int64         \n",
      " 79   FirstDownsByPassingAllowed             7660 non-null   int64         \n",
      " 80   FirstDownsByPenaltyAllowed             7660 non-null   int64         \n",
      " 81   DefensivePlays                         7660 non-null   int64         \n",
      " 82   YardsAllowed                           7660 non-null   int64         \n",
      " 83   RushingAttemptsAgainst                 7660 non-null   int64         \n",
      " 84   RushingYardsAllowed                    7660 non-null   int64         \n",
      " 85   RushingYardsPerAttemptAllowed          7660 non-null   float64       \n",
      " 86   RushingTouchdownsAllowed               7660 non-null   int64         \n",
      " 87   PassingAttemptsAgainst                 7660 non-null   int64         \n",
      " 88   PassingCompletionsAllowed              7660 non-null   int64         \n",
      " 89   PassingYardsAllowed                    7660 non-null   int64         \n",
      " 90   PassingTouchdownsAllowed               7660 non-null   int64         \n",
      " 91   PassingInterceptionsAllowed            7660 non-null   int64         \n",
      " 92   PasserRatingAllowed                    7660 non-null   float64       \n",
      " 93   ThirdDownAttemptsAgainst               7660 non-null   int64         \n",
      " 94   ThirdDownConversionsAllowed            7660 non-null   int64         \n",
      " 95   FourthDownAttemptsAgainst              7660 non-null   int64         \n",
      " 96   FourthDownConversionsAllowed           7660 non-null   int64         \n",
      " 97   RedZoneAttemptsAgainst                 7660 non-null   int64         \n",
      " 98   RedZoneConversionsAllowed              7660 non-null   int64         \n",
      " 99   GoalToGoAttemptsAgainst                7660 non-null   int64         \n",
      " 100  GoalToGoConversionsAllowed             7660 non-null   int64         \n",
      " 101  FumblesCaused                          7660 non-null   int64         \n",
      " 102  DefensiveFumblesRecovered              7660 non-null   int64         \n",
      " 103  DefensiveInterceptionReturns           7660 non-null   int64         \n",
      " 104  DefensiveInterceptionReturnYards       7660 non-null   int64         \n",
      " 105  SoloTackles                            7660 non-null   int64         \n",
      " 106  AssistedTackles                        7660 non-null   int64         \n",
      " 107  DefensiveSacks                         7660 non-null   int64         \n",
      " 108  DefensiveSackYards                     7660 non-null   int64         \n",
      " 109  DefensivePassesDefended                7660 non-null   int64         \n",
      " 110  DefensiveFumblesForced                 7660 non-null   int64         \n",
      " 111  DefensiveFumblesRecovered.1            7660 non-null   int64         \n",
      " 112  DefensiveFumbleReturnYards             7660 non-null   int64         \n",
      " 113  DefensiveFumbleReturnTouchdowns        7660 non-null   int64         \n",
      " 114  DefensiveInterceptionReturnTouchdowns  7660 non-null   int64         \n",
      " 115  DefensiveTouchdowns                    7660 non-null   int64         \n",
      " 116  PassingDropbacksAgainst                7660 non-null   int64         \n",
      " 117  TwoPointConversionReturnsAgainst       7660 non-null   int64         \n",
      "dtypes: datetime64[ns](1), float64(10), int64(97), object(10)\n",
      "memory usage: 7.0+ MB\n"
     ]
    }
   ],
   "source": [
    "df.info(verbose=True, null_counts=True)"
   ]
  },
  {
   "cell_type": "markdown",
   "metadata": {},
   "source": [
    "### PlayingSurface"
   ]
  },
  {
   "cell_type": "code",
   "execution_count": 10,
   "metadata": {},
   "outputs": [
    {
     "data": {
      "text/plain": [
       "Grass            4028\n",
       "Artificial       2192\n",
       "Dome             1206\n",
       "FieldTurf         116\n",
       "Natural Grass      16\n",
       "Name: PlayingSurface, dtype: int64"
      ]
     },
     "execution_count": 10,
     "metadata": {},
     "output_type": "execute_result"
    }
   ],
   "source": [
    "df['PlayingSurface'].value_counts()"
   ]
  },
  {
   "cell_type": "code",
   "execution_count": 11,
   "metadata": {},
   "outputs": [
    {
     "data": {
      "text/plain": [
       "TCF Bank Stadium     48\n",
       "Levi's Stadium       48\n",
       "Tottenham Stadium     4\n",
       "Cowboys Stadium       2\n",
       "Name: Stadium, dtype: int64"
      ]
     },
     "execution_count": 11,
     "metadata": {},
     "output_type": "execute_result"
    }
   ],
   "source": [
    "df[df['PlayingSurface'].isna()]['Stadium'].value_counts()"
   ]
  },
  {
   "cell_type": "markdown",
   "metadata": {},
   "source": [
    "#### Cowboys Stadium"
   ]
  },
  {
   "cell_type": "code",
   "execution_count": 12,
   "metadata": {},
   "outputs": [
    {
     "data": {
      "text/plain": [
       "1642    Artificial\n",
       "1657    Artificial\n",
       "1670    Artificial\n",
       "1674    Artificial\n",
       "1783    Artificial\n",
       "           ...    \n",
       "4108          Dome\n",
       "4162          Dome\n",
       "4165          Dome\n",
       "4226          Dome\n",
       "4243          Dome\n",
       "Name: PlayingSurface, Length: 80, dtype: object"
      ]
     },
     "execution_count": 12,
     "metadata": {},
     "output_type": "execute_result"
    }
   ],
   "source": [
    "df[df['Stadium'] == 'Cowboys Stadium']['PlayingSurface']"
   ]
  },
  {
   "cell_type": "code",
   "execution_count": 13,
   "metadata": {},
   "outputs": [
    {
     "data": {
      "text/plain": [
       "Artificial    62\n",
       "Dome          16\n",
       "Name: PlayingSurface, dtype: int64"
      ]
     },
     "execution_count": 13,
     "metadata": {},
     "output_type": "execute_result"
    }
   ],
   "source": [
    "df[df['Stadium'] == 'Cowboys Stadium']['PlayingSurface'].value_counts()"
   ]
  },
  {
   "cell_type": "code",
   "execution_count": 14,
   "metadata": {},
   "outputs": [
    {
     "data": {
      "text/plain": [
       "3417   2012-10-28 16:25:00\n",
       "3431   2012-10-28 16:25:00\n",
       "Name: Date, dtype: datetime64[ns]"
      ]
     },
     "execution_count": 14,
     "metadata": {},
     "output_type": "execute_result"
    }
   ],
   "source": [
    "df[(df['Stadium'] == 'Cowboys Stadium') & (df['PlayingSurface'].isna())]['Date']"
   ]
  },
  {
   "cell_type": "code",
   "execution_count": 15,
   "metadata": {},
   "outputs": [
    {
     "data": {
      "text/plain": [
       "3276    Artificial\n",
       "3297    Artificial\n",
       "3305    Artificial\n",
       "3308    Artificial\n",
       "3417           NaN\n",
       "3431           NaN\n",
       "3503    Artificial\n",
       "3504    Artificial\n",
       "3532    Artificial\n",
       "3555    Artificial\n",
       "3564    Artificial\n",
       "3581    Artificial\n",
       "3628    Artificial\n",
       "3646    Artificial\n",
       "3660    Artificial\n",
       "3674    Artificial\n",
       "Name: PlayingSurface, dtype: object"
      ]
     },
     "execution_count": 15,
     "metadata": {},
     "output_type": "execute_result"
    }
   ],
   "source": [
    "df[(df['Stadium'] == 'Cowboys Stadium') & (pd.DatetimeIndex(df['Date']).year == 2012)]['PlayingSurface']"
   ]
  },
  {
   "cell_type": "code",
   "execution_count": 16,
   "metadata": {},
   "outputs": [],
   "source": [
    "df['PlayingSurface'] = df.apply(\n",
    "    lambda x: 'Artificial' if (\n",
    "        (x['Stadium'] == 'Cowboys Stadium') and pd.isna(x['PlayingSurface'])\n",
    " ) else x['PlayingSurface'],\n",
    " axis=1\n",
    ")"
   ]
  },
  {
   "cell_type": "markdown",
   "metadata": {},
   "source": [
    "#### Tottenham Stadium"
   ]
  },
  {
   "cell_type": "code",
   "execution_count": 17,
   "metadata": {},
   "outputs": [
    {
     "data": {
      "text/plain": [
       "True"
      ]
     },
     "execution_count": 17,
     "metadata": {},
     "output_type": "execute_result"
    }
   ],
   "source": [
    "np.all(df[df['Stadium'] == 'Tottenham Stadium']['PlayingSurface'].isna())"
   ]
  },
  {
   "cell_type": "code",
   "execution_count": 18,
   "metadata": {},
   "outputs": [],
   "source": [
    "# googled it: https://www.wikiwand.com/en/Tottenham_Hotspur_Stadium\n",
    "df['PlayingSurface'] = df.apply(\n",
    "    lambda x: 'FieldTurf' if (\n",
    "        (x['Stadium'] == 'Tottenham Stadium') and pd.isna(x['PlayingSurface'])\n",
    " ) else x['PlayingSurface'],\n",
    " axis=1\n",
    ")"
   ]
  },
  {
   "cell_type": "markdown",
   "metadata": {},
   "source": [
    "#### Levi's Stadium"
   ]
  },
  {
   "cell_type": "code",
   "execution_count": 19,
   "metadata": {},
   "outputs": [
    {
     "data": {
      "text/plain": [
       "False"
      ]
     },
     "execution_count": 19,
     "metadata": {},
     "output_type": "execute_result"
    }
   ],
   "source": [
    "np.all(df[df['Stadium'] == \"Levi's Stadium\"]['PlayingSurface'].isna())"
   ]
  },
  {
   "cell_type": "code",
   "execution_count": 20,
   "metadata": {},
   "outputs": [
    {
     "data": {
      "text/plain": [
       "Grass    58\n",
       "Name: PlayingSurface, dtype: int64"
      ]
     },
     "execution_count": 20,
     "metadata": {},
     "output_type": "execute_result"
    }
   ],
   "source": [
    "df[df['Stadium'] == \"Levi's Stadium\"]['PlayingSurface'].value_counts()"
   ]
  },
  {
   "cell_type": "code",
   "execution_count": 21,
   "metadata": {},
   "outputs": [],
   "source": [
    "# googled it: https://www.wikiwand.com/en/Levi%27s_Stadium\n",
    "df['PlayingSurface'] = df.apply(\n",
    "    lambda x: 'Grass' if (\n",
    "        (x['Stadium'] == \"Levi's Stadium\") and pd.isna(x['PlayingSurface'])\n",
    " ) else x['PlayingSurface'],\n",
    " axis=1\n",
    ")"
   ]
  },
  {
   "cell_type": "markdown",
   "metadata": {},
   "source": [
    "#### TCF Bank Stadium"
   ]
  },
  {
   "cell_type": "code",
   "execution_count": 22,
   "metadata": {},
   "outputs": [
    {
     "data": {
      "text/plain": [
       "False"
      ]
     },
     "execution_count": 22,
     "metadata": {},
     "output_type": "execute_result"
    }
   ],
   "source": [
    "np.all(df[df['Stadium'] == 'TCF Bank Stadium']['PlayingSurface'].isna())"
   ]
  },
  {
   "cell_type": "code",
   "execution_count": 23,
   "metadata": {},
   "outputs": [
    {
     "data": {
      "text/plain": [
       "Artificial    12\n",
       "FieldTurf      2\n",
       "Name: PlayingSurface, dtype: int64"
      ]
     },
     "execution_count": 23,
     "metadata": {},
     "output_type": "execute_result"
    }
   ],
   "source": [
    "df[df['Stadium'] == 'TCF Bank Stadium']['PlayingSurface'].value_counts()"
   ]
  },
  {
   "cell_type": "code",
   "execution_count": 24,
   "metadata": {},
   "outputs": [
    {
     "data": {
      "text/plain": [
       "2557   2010-12-20\n",
       "2572   2010-12-20\n",
       "Name: Date, dtype: datetime64[ns]"
      ]
     },
     "execution_count": 24,
     "metadata": {},
     "output_type": "execute_result"
    }
   ],
   "source": [
    "df[(df['Stadium'] == 'TCF Bank Stadium') & (df['PlayingSurface'] == 'FieldTurf')]['Date']"
   ]
  },
  {
   "cell_type": "code",
   "execution_count": 25,
   "metadata": {},
   "outputs": [
    {
     "data": {
      "text/plain": [
       "5893   2017-09-11 19:10:00\n",
       "5895   2017-09-11 19:10:00\n",
       "5956   2017-09-24 13:00:00\n",
       "5965   2017-09-24 13:00:00\n",
       "5978   2017-10-01 13:00:00\n",
       "5988   2017-10-01 13:00:00\n",
       "6036   2017-10-15 13:00:00\n",
       "6045   2017-10-15 13:00:00\n",
       "6058   2017-10-22 13:00:00\n",
       "6074   2017-10-22 13:00:00\n",
       "6181   2017-11-19 13:00:00\n",
       "6184   2017-11-19 13:00:00\n",
       "Name: Date, dtype: datetime64[ns]"
      ]
     },
     "execution_count": 25,
     "metadata": {},
     "output_type": "execute_result"
    }
   ],
   "source": [
    "df[(df['Stadium'] == 'TCF Bank Stadium') & (df['PlayingSurface'] == 'Artificial')]['Date']"
   ]
  },
  {
   "cell_type": "code",
   "execution_count": 26,
   "metadata": {},
   "outputs": [
    {
     "data": {
      "text/plain": [
       "Timestamp('2014-09-14 13:00:00')"
      ]
     },
     "execution_count": 26,
     "metadata": {},
     "output_type": "execute_result"
    }
   ],
   "source": [
    "df[(df['Stadium'] == 'TCF Bank Stadium') & (df['PlayingSurface'].isna())]['Date'].min()"
   ]
  },
  {
   "cell_type": "code",
   "execution_count": 27,
   "metadata": {},
   "outputs": [
    {
     "data": {
      "text/plain": [
       "Timestamp('2017-01-01 13:00:00')"
      ]
     },
     "execution_count": 27,
     "metadata": {},
     "output_type": "execute_result"
    }
   ],
   "source": [
    "df[(df['Stadium'] == 'TCF Bank Stadium') & (df['PlayingSurface'].isna())]['Date'].max()"
   ]
  },
  {
   "cell_type": "code",
   "execution_count": 28,
   "metadata": {},
   "outputs": [],
   "source": [
    "# googled it: https://www.thedailygopher.com/2016/5/4/11576228/tcf-bank-stadium-field-turf-minnesota-football-vikings\n",
    "df['PlayingSurface'] = df.apply(\n",
    "    lambda x: 'FieldTurf' if (\n",
    "        (x['Stadium'] == 'TCF Bank Stadium') and pd.isna(x['PlayingSurface'])\n",
    " ) else x['PlayingSurface'],\n",
    " axis=1\n",
    ")"
   ]
  },
  {
   "cell_type": "markdown",
   "metadata": {},
   "source": [
    "### Temperature, Humidity, & WindSpeed  "
   ]
  },
  {
   "cell_type": "code",
   "execution_count": 29,
   "metadata": {},
   "outputs": [],
   "source": [
    "# TODO: fill these values\n",
    "df = df.dropna(subset=['Temperature', 'Humidity', 'WindSpeed'])"
   ]
  },
  {
   "cell_type": "code",
   "execution_count": 30,
   "metadata": {},
   "outputs": [
    {
     "name": "stdout",
     "output_type": "stream",
     "text": [
      "Data clean of null values\n"
     ]
    }
   ],
   "source": [
    "if not len(df.dropna()) == len(df):\n",
    "    print('Null values found in data')\n",
    "else:\n",
    "    print('Data clean of null values')"
   ]
  },
  {
   "cell_type": "markdown",
   "metadata": {},
   "source": [
    "## Create a Windowed Dataset"
   ]
  },
  {
   "cell_type": "code",
   "execution_count": 31,
   "metadata": {},
   "outputs": [
    {
     "data": {
      "text/plain": [
       "Index(['MoneyLineWinLoss', 'SpreadWinLoss', 'OverUnderResult', 'GameStatus',\n",
       "       'Team', 'Opponent', 'HomeOrAway', 'Stadium', 'PlayingSurface',\n",
       "       'FavoriteUnderdog'],\n",
       "      dtype='object')"
      ]
     },
     "execution_count": 31,
     "metadata": {},
     "output_type": "execute_result"
    }
   ],
   "source": [
    "df.select_dtypes(include='object').columns"
   ]
  },
  {
   "cell_type": "code",
   "execution_count": 32,
   "metadata": {},
   "outputs": [],
   "source": [
    "categorical = ['MoneyLineWinLoss', 'OverUnderResult', 'GameStatus', 'HomeOrAway', 'Stadium', 'PlayingSurface', 'FavoriteUnderdog', 'SpreadWinLoss']\n",
    "dummy_df = pd.get_dummies(df, columns=categorical, drop_first=True)\n",
    "dummy_df = dummy_df.rename(columns={'MoneyLineWinLoss_Win': 'MoneyLineWinLoss'})"
   ]
  },
  {
   "cell_type": "code",
   "execution_count": 33,
   "metadata": {},
   "outputs": [],
   "source": [
    "sorted_df = dummy_df.sort_values(['Date'], ascending=True)"
   ]
  },
  {
   "cell_type": "code",
   "execution_count": 34,
   "metadata": {},
   "outputs": [
    {
     "data": {
      "text/plain": [
       "(7564, 210)"
      ]
     },
     "execution_count": 34,
     "metadata": {},
     "output_type": "execute_result"
    }
   ],
   "source": [
    "sorted_df.dropna().shape"
   ]
  },
  {
   "cell_type": "code",
   "execution_count": 35,
   "metadata": {},
   "outputs": [
    {
     "data": {
      "text/plain": [
       "88"
      ]
     },
     "execution_count": 35,
     "metadata": {},
     "output_type": "execute_result"
    }
   ],
   "source": [
    "len(df['Stadium'].unique())"
   ]
  },
  {
   "cell_type": "code",
   "execution_count": 36,
   "metadata": {},
   "outputs": [],
   "source": [
    "sorted_teams = sorted(sorted_df['Team'].unique()) # would be smart to include coordinates\n",
    "team_mapping = {k:v for v,k in enumerate(sorted_teams)}"
   ]
  },
  {
   "cell_type": "code",
   "execution_count": 37,
   "metadata": {},
   "outputs": [],
   "source": [
    "window_size = 12 # this can be tuned between model iterations"
   ]
  },
  {
   "cell_type": "code",
   "execution_count": 38,
   "metadata": {},
   "outputs": [],
   "source": [
    "def get_dataset(team, opponent, date, label, season, window):\n",
    "    team_games = sorted_df[(sorted_df['Team'] == team) & (sorted_df['Date'] < date)].tail(window)\n",
    "    opponent_games = sorted_df[(sorted_df['Team'] == opponent) & (sorted_df['Date'] < date)].tail(window)\n",
    "    previous_games = pd.concat([team_games, opponent_games])\n",
    "    previous_games['SampleIndex'] = f'{team}_{opponent}_{date}'\n",
    "    previous_games['Team'] = previous_games['Team'].apply(lambda team: team_mapping[team])\n",
    "    previous_games['Opponent'] = previous_games['Opponent'].apply(lambda team: team_mapping[team])\n",
    "    previous_games['PredictionSeason'] = season\n",
    "    previous_games = previous_games.drop(columns=['Date'])\n",
    "    \n",
    "    # only return samples with full windows \n",
    "    if len(previous_games) < window*2:\n",
    "        return None, None \n",
    "    else:\n",
    "        return previous_games, label"
   ]
  },
  {
   "cell_type": "code",
   "execution_count": 39,
   "metadata": {},
   "outputs": [
    {
     "data": {
      "application/vnd.jupyter.widget-view+json": {
       "model_id": "a60a98496b1b42baac8f0c084e9ce087",
       "version_major": 2,
       "version_minor": 0
      },
      "text/plain": [
       "Building dataset:   0%|          | 0/7564 [00:00<?, ?it/s]"
      ]
     },
     "metadata": {},
     "output_type": "display_data"
    }
   ],
   "source": [
    "X, y = zip(*sorted_df.progress_apply(\n",
    "    lambda row: get_dataset(\n",
    "        row['Team'], row['Opponent'], row['Date'], row['MoneyLineWinLoss'], row['Season'], window_size\n",
    "    ), \n",
    "    axis=1\n",
    "))"
   ]
  },
  {
   "cell_type": "markdown",
   "metadata": {},
   "source": [
    "Drop na results and duplicates where team, opponent pairs occur "
   ]
  },
  {
   "cell_type": "code",
   "execution_count": 40,
   "metadata": {},
   "outputs": [],
   "source": [
    "X = pd.Series(X).dropna().iloc[::2]\n",
    "y = pd.Series(y).dropna().iloc[::2]"
   ]
  },
  {
   "cell_type": "markdown",
   "metadata": {},
   "source": [
    "### Verify dataset correctly constructed"
   ]
  },
  {
   "cell_type": "code",
   "execution_count": 41,
   "metadata": {},
   "outputs": [
    {
     "data": {
      "text/html": [
       "<div>\n",
       "<style scoped>\n",
       "    .dataframe tbody tr th:only-of-type {\n",
       "        vertical-align: middle;\n",
       "    }\n",
       "\n",
       "    .dataframe tbody tr th {\n",
       "        vertical-align: top;\n",
       "    }\n",
       "\n",
       "    .dataframe thead th {\n",
       "        text-align: right;\n",
       "    }\n",
       "</style>\n",
       "<table border=\"1\" class=\"dataframe\">\n",
       "  <thead>\n",
       "    <tr style=\"text-align: right;\">\n",
       "      <th></th>\n",
       "      <th>WinLossMargin</th>\n",
       "      <th>SpreadWinLossMargin</th>\n",
       "      <th>OverUnderMargin</th>\n",
       "      <th>Season</th>\n",
       "      <th>Week</th>\n",
       "      <th>RunningWeek</th>\n",
       "      <th>Team</th>\n",
       "      <th>Opponent</th>\n",
       "      <th>Points Scored</th>\n",
       "      <th>Points Allowed</th>\n",
       "      <th>...</th>\n",
       "      <th>PlayingSurface_Dome</th>\n",
       "      <th>PlayingSurface_FieldTurf</th>\n",
       "      <th>PlayingSurface_Grass</th>\n",
       "      <th>PlayingSurface_Natural Grass</th>\n",
       "      <th>FavoriteUnderdog_Favorite</th>\n",
       "      <th>FavoriteUnderdog_Pick-Em</th>\n",
       "      <th>SpreadWinLoss_Tie</th>\n",
       "      <th>SpreadWinLoss_Win</th>\n",
       "      <th>SampleIndex</th>\n",
       "      <th>PredictionSeason</th>\n",
       "    </tr>\n",
       "  </thead>\n",
       "  <tbody>\n",
       "    <tr>\n",
       "      <th>7597</th>\n",
       "      <td>5</td>\n",
       "      <td>13.5</td>\n",
       "      <td>-0.5</td>\n",
       "      <td>2020</td>\n",
       "      <td>4</td>\n",
       "      <td>4</td>\n",
       "      <td>25</td>\n",
       "      <td>28</td>\n",
       "      <td>25</td>\n",
       "      <td>20</td>\n",
       "      <td>...</td>\n",
       "      <td>0</td>\n",
       "      <td>0</td>\n",
       "      <td>1</td>\n",
       "      <td>0</td>\n",
       "      <td>0</td>\n",
       "      <td>0</td>\n",
       "      <td>0</td>\n",
       "      <td>1</td>\n",
       "      <td>PHI_WAS_2021-01-03 20:20:00</td>\n",
       "      <td>2020</td>\n",
       "    </tr>\n",
       "    <tr>\n",
       "      <th>7623</th>\n",
       "      <td>-9</td>\n",
       "      <td>-1.5</td>\n",
       "      <td>23.0</td>\n",
       "      <td>2020</td>\n",
       "      <td>5</td>\n",
       "      <td>5</td>\n",
       "      <td>25</td>\n",
       "      <td>26</td>\n",
       "      <td>29</td>\n",
       "      <td>38</td>\n",
       "      <td>...</td>\n",
       "      <td>0</td>\n",
       "      <td>0</td>\n",
       "      <td>1</td>\n",
       "      <td>0</td>\n",
       "      <td>0</td>\n",
       "      <td>0</td>\n",
       "      <td>0</td>\n",
       "      <td>0</td>\n",
       "      <td>PHI_WAS_2021-01-03 20:20:00</td>\n",
       "      <td>2020</td>\n",
       "    </tr>\n",
       "    <tr>\n",
       "      <th>7652</th>\n",
       "      <td>-2</td>\n",
       "      <td>8.0</td>\n",
       "      <td>11.5</td>\n",
       "      <td>2020</td>\n",
       "      <td>6</td>\n",
       "      <td>6</td>\n",
       "      <td>25</td>\n",
       "      <td>2</td>\n",
       "      <td>28</td>\n",
       "      <td>30</td>\n",
       "      <td>...</td>\n",
       "      <td>0</td>\n",
       "      <td>0</td>\n",
       "      <td>1</td>\n",
       "      <td>0</td>\n",
       "      <td>0</td>\n",
       "      <td>0</td>\n",
       "      <td>0</td>\n",
       "      <td>1</td>\n",
       "      <td>PHI_WAS_2021-01-03 20:20:00</td>\n",
       "      <td>2020</td>\n",
       "    </tr>\n",
       "    <tr>\n",
       "      <th>7679</th>\n",
       "      <td>1</td>\n",
       "      <td>-4.0</td>\n",
       "      <td>-1.5</td>\n",
       "      <td>2020</td>\n",
       "      <td>7</td>\n",
       "      <td>7</td>\n",
       "      <td>25</td>\n",
       "      <td>23</td>\n",
       "      <td>22</td>\n",
       "      <td>21</td>\n",
       "      <td>...</td>\n",
       "      <td>0</td>\n",
       "      <td>0</td>\n",
       "      <td>1</td>\n",
       "      <td>0</td>\n",
       "      <td>1</td>\n",
       "      <td>0</td>\n",
       "      <td>0</td>\n",
       "      <td>0</td>\n",
       "      <td>PHI_WAS_2021-01-03 20:20:00</td>\n",
       "      <td>2020</td>\n",
       "    </tr>\n",
       "    <tr>\n",
       "      <th>7708</th>\n",
       "      <td>14</td>\n",
       "      <td>4.0</td>\n",
       "      <td>-11.0</td>\n",
       "      <td>2020</td>\n",
       "      <td>8</td>\n",
       "      <td>8</td>\n",
       "      <td>25</td>\n",
       "      <td>8</td>\n",
       "      <td>23</td>\n",
       "      <td>9</td>\n",
       "      <td>...</td>\n",
       "      <td>0</td>\n",
       "      <td>0</td>\n",
       "      <td>1</td>\n",
       "      <td>0</td>\n",
       "      <td>1</td>\n",
       "      <td>0</td>\n",
       "      <td>0</td>\n",
       "      <td>1</td>\n",
       "      <td>PHI_WAS_2021-01-03 20:20:00</td>\n",
       "      <td>2020</td>\n",
       "    </tr>\n",
       "    <tr>\n",
       "      <th>7763</th>\n",
       "      <td>-10</td>\n",
       "      <td>-14.5</td>\n",
       "      <td>-1.5</td>\n",
       "      <td>2020</td>\n",
       "      <td>10</td>\n",
       "      <td>10</td>\n",
       "      <td>25</td>\n",
       "      <td>23</td>\n",
       "      <td>17</td>\n",
       "      <td>27</td>\n",
       "      <td>...</td>\n",
       "      <td>0</td>\n",
       "      <td>0</td>\n",
       "      <td>0</td>\n",
       "      <td>0</td>\n",
       "      <td>1</td>\n",
       "      <td>0</td>\n",
       "      <td>0</td>\n",
       "      <td>0</td>\n",
       "      <td>PHI_WAS_2021-01-03 20:20:00</td>\n",
       "      <td>2020</td>\n",
       "    </tr>\n",
       "    <tr>\n",
       "      <th>7792</th>\n",
       "      <td>-5</td>\n",
       "      <td>-2.5</td>\n",
       "      <td>-6.5</td>\n",
       "      <td>2020</td>\n",
       "      <td>11</td>\n",
       "      <td>11</td>\n",
       "      <td>25</td>\n",
       "      <td>7</td>\n",
       "      <td>17</td>\n",
       "      <td>22</td>\n",
       "      <td>...</td>\n",
       "      <td>0</td>\n",
       "      <td>0</td>\n",
       "      <td>1</td>\n",
       "      <td>0</td>\n",
       "      <td>0</td>\n",
       "      <td>0</td>\n",
       "      <td>0</td>\n",
       "      <td>0</td>\n",
       "      <td>PHI_WAS_2021-01-03 20:20:00</td>\n",
       "      <td>2020</td>\n",
       "    </tr>\n",
       "    <tr>\n",
       "      <th>7823</th>\n",
       "      <td>-6</td>\n",
       "      <td>0.5</td>\n",
       "      <td>-9.5</td>\n",
       "      <td>2020</td>\n",
       "      <td>12</td>\n",
       "      <td>12</td>\n",
       "      <td>25</td>\n",
       "      <td>27</td>\n",
       "      <td>17</td>\n",
       "      <td>23</td>\n",
       "      <td>...</td>\n",
       "      <td>0</td>\n",
       "      <td>0</td>\n",
       "      <td>1</td>\n",
       "      <td>0</td>\n",
       "      <td>0</td>\n",
       "      <td>0</td>\n",
       "      <td>0</td>\n",
       "      <td>1</td>\n",
       "      <td>PHI_WAS_2021-01-03 20:20:00</td>\n",
       "      <td>2020</td>\n",
       "    </tr>\n",
       "    <tr>\n",
       "      <th>7854</th>\n",
       "      <td>-14</td>\n",
       "      <td>-6.0</td>\n",
       "      <td>-3.5</td>\n",
       "      <td>2020</td>\n",
       "      <td>13</td>\n",
       "      <td>13</td>\n",
       "      <td>25</td>\n",
       "      <td>11</td>\n",
       "      <td>16</td>\n",
       "      <td>30</td>\n",
       "      <td>...</td>\n",
       "      <td>0</td>\n",
       "      <td>0</td>\n",
       "      <td>1</td>\n",
       "      <td>0</td>\n",
       "      <td>0</td>\n",
       "      <td>0</td>\n",
       "      <td>0</td>\n",
       "      <td>0</td>\n",
       "      <td>PHI_WAS_2021-01-03 20:20:00</td>\n",
       "      <td>2020</td>\n",
       "    </tr>\n",
       "    <tr>\n",
       "      <th>7885</th>\n",
       "      <td>3</td>\n",
       "      <td>10.5</td>\n",
       "      <td>2.5</td>\n",
       "      <td>2020</td>\n",
       "      <td>14</td>\n",
       "      <td>14</td>\n",
       "      <td>25</td>\n",
       "      <td>22</td>\n",
       "      <td>24</td>\n",
       "      <td>21</td>\n",
       "      <td>...</td>\n",
       "      <td>0</td>\n",
       "      <td>0</td>\n",
       "      <td>1</td>\n",
       "      <td>0</td>\n",
       "      <td>0</td>\n",
       "      <td>0</td>\n",
       "      <td>0</td>\n",
       "      <td>1</td>\n",
       "      <td>PHI_WAS_2021-01-03 20:20:00</td>\n",
       "      <td>2020</td>\n",
       "    </tr>\n",
       "    <tr>\n",
       "      <th>7917</th>\n",
       "      <td>-7</td>\n",
       "      <td>-1.0</td>\n",
       "      <td>9.5</td>\n",
       "      <td>2020</td>\n",
       "      <td>15</td>\n",
       "      <td>15</td>\n",
       "      <td>25</td>\n",
       "      <td>0</td>\n",
       "      <td>26</td>\n",
       "      <td>33</td>\n",
       "      <td>...</td>\n",
       "      <td>0</td>\n",
       "      <td>0</td>\n",
       "      <td>1</td>\n",
       "      <td>0</td>\n",
       "      <td>0</td>\n",
       "      <td>0</td>\n",
       "      <td>0</td>\n",
       "      <td>0</td>\n",
       "      <td>PHI_WAS_2021-01-03 20:20:00</td>\n",
       "      <td>2020</td>\n",
       "    </tr>\n",
       "    <tr>\n",
       "      <th>7949</th>\n",
       "      <td>-20</td>\n",
       "      <td>-23.5</td>\n",
       "      <td>3.5</td>\n",
       "      <td>2020</td>\n",
       "      <td>16</td>\n",
       "      <td>16</td>\n",
       "      <td>25</td>\n",
       "      <td>8</td>\n",
       "      <td>17</td>\n",
       "      <td>37</td>\n",
       "      <td>...</td>\n",
       "      <td>0</td>\n",
       "      <td>0</td>\n",
       "      <td>0</td>\n",
       "      <td>0</td>\n",
       "      <td>1</td>\n",
       "      <td>0</td>\n",
       "      <td>0</td>\n",
       "      <td>0</td>\n",
       "      <td>PHI_WAS_2021-01-03 20:20:00</td>\n",
       "      <td>2020</td>\n",
       "    </tr>\n",
       "    <tr>\n",
       "      <th>7601</th>\n",
       "      <td>-14</td>\n",
       "      <td>0.0</td>\n",
       "      <td>3.0</td>\n",
       "      <td>2020</td>\n",
       "      <td>4</td>\n",
       "      <td>4</td>\n",
       "      <td>31</td>\n",
       "      <td>2</td>\n",
       "      <td>17</td>\n",
       "      <td>31</td>\n",
       "      <td>...</td>\n",
       "      <td>0</td>\n",
       "      <td>0</td>\n",
       "      <td>1</td>\n",
       "      <td>0</td>\n",
       "      <td>0</td>\n",
       "      <td>0</td>\n",
       "      <td>1</td>\n",
       "      <td>0</td>\n",
       "      <td>PHI_WAS_2021-01-03 20:20:00</td>\n",
       "      <td>2020</td>\n",
       "    </tr>\n",
       "    <tr>\n",
       "      <th>7629</th>\n",
       "      <td>-20</td>\n",
       "      <td>-12.5</td>\n",
       "      <td>-5.0</td>\n",
       "      <td>2020</td>\n",
       "      <td>5</td>\n",
       "      <td>5</td>\n",
       "      <td>31</td>\n",
       "      <td>17</td>\n",
       "      <td>10</td>\n",
       "      <td>30</td>\n",
       "      <td>...</td>\n",
       "      <td>0</td>\n",
       "      <td>0</td>\n",
       "      <td>1</td>\n",
       "      <td>0</td>\n",
       "      <td>0</td>\n",
       "      <td>0</td>\n",
       "      <td>0</td>\n",
       "      <td>0</td>\n",
       "      <td>PHI_WAS_2021-01-03 20:20:00</td>\n",
       "      <td>2020</td>\n",
       "    </tr>\n",
       "    <tr>\n",
       "      <th>7657</th>\n",
       "      <td>-1</td>\n",
       "      <td>1.0</td>\n",
       "      <td>-3.0</td>\n",
       "      <td>2020</td>\n",
       "      <td>6</td>\n",
       "      <td>6</td>\n",
       "      <td>31</td>\n",
       "      <td>23</td>\n",
       "      <td>19</td>\n",
       "      <td>20</td>\n",
       "      <td>...</td>\n",
       "      <td>0</td>\n",
       "      <td>0</td>\n",
       "      <td>0</td>\n",
       "      <td>0</td>\n",
       "      <td>0</td>\n",
       "      <td>0</td>\n",
       "      <td>0</td>\n",
       "      <td>1</td>\n",
       "      <td>PHI_WAS_2021-01-03 20:20:00</td>\n",
       "      <td>2020</td>\n",
       "    </tr>\n",
       "    <tr>\n",
       "      <th>7685</th>\n",
       "      <td>22</td>\n",
       "      <td>21.0</td>\n",
       "      <td>-16.5</td>\n",
       "      <td>2020</td>\n",
       "      <td>7</td>\n",
       "      <td>7</td>\n",
       "      <td>31</td>\n",
       "      <td>8</td>\n",
       "      <td>25</td>\n",
       "      <td>3</td>\n",
       "      <td>...</td>\n",
       "      <td>0</td>\n",
       "      <td>0</td>\n",
       "      <td>1</td>\n",
       "      <td>0</td>\n",
       "      <td>1</td>\n",
       "      <td>0</td>\n",
       "      <td>0</td>\n",
       "      <td>1</td>\n",
       "      <td>PHI_WAS_2021-01-03 20:20:00</td>\n",
       "      <td>2020</td>\n",
       "    </tr>\n",
       "    <tr>\n",
       "      <th>7741</th>\n",
       "      <td>-3</td>\n",
       "      <td>-6.0</td>\n",
       "      <td>0.0</td>\n",
       "      <td>2020</td>\n",
       "      <td>9</td>\n",
       "      <td>9</td>\n",
       "      <td>31</td>\n",
       "      <td>23</td>\n",
       "      <td>20</td>\n",
       "      <td>23</td>\n",
       "      <td>...</td>\n",
       "      <td>0</td>\n",
       "      <td>0</td>\n",
       "      <td>1</td>\n",
       "      <td>0</td>\n",
       "      <td>1</td>\n",
       "      <td>0</td>\n",
       "      <td>0</td>\n",
       "      <td>0</td>\n",
       "      <td>PHI_WAS_2021-01-03 20:20:00</td>\n",
       "      <td>2020</td>\n",
       "    </tr>\n",
       "    <tr>\n",
       "      <th>7769</th>\n",
       "      <td>-3</td>\n",
       "      <td>-0.5</td>\n",
       "      <td>11.0</td>\n",
       "      <td>2020</td>\n",
       "      <td>10</td>\n",
       "      <td>10</td>\n",
       "      <td>31</td>\n",
       "      <td>10</td>\n",
       "      <td>27</td>\n",
       "      <td>30</td>\n",
       "      <td>...</td>\n",
       "      <td>0</td>\n",
       "      <td>0</td>\n",
       "      <td>0</td>\n",
       "      <td>0</td>\n",
       "      <td>0</td>\n",
       "      <td>0</td>\n",
       "      <td>0</td>\n",
       "      <td>0</td>\n",
       "      <td>PHI_WAS_2021-01-03 20:20:00</td>\n",
       "      <td>2020</td>\n",
       "    </tr>\n",
       "    <tr>\n",
       "      <th>7797</th>\n",
       "      <td>11</td>\n",
       "      <td>9.5</td>\n",
       "      <td>-19.0</td>\n",
       "      <td>2020</td>\n",
       "      <td>11</td>\n",
       "      <td>11</td>\n",
       "      <td>31</td>\n",
       "      <td>6</td>\n",
       "      <td>20</td>\n",
       "      <td>9</td>\n",
       "      <td>...</td>\n",
       "      <td>0</td>\n",
       "      <td>0</td>\n",
       "      <td>1</td>\n",
       "      <td>0</td>\n",
       "      <td>1</td>\n",
       "      <td>0</td>\n",
       "      <td>0</td>\n",
       "      <td>1</td>\n",
       "      <td>PHI_WAS_2021-01-03 20:20:00</td>\n",
       "      <td>2020</td>\n",
       "    </tr>\n",
       "    <tr>\n",
       "      <th>7829</th>\n",
       "      <td>25</td>\n",
       "      <td>28.0</td>\n",
       "      <td>11.0</td>\n",
       "      <td>2020</td>\n",
       "      <td>12</td>\n",
       "      <td>12</td>\n",
       "      <td>31</td>\n",
       "      <td>8</td>\n",
       "      <td>41</td>\n",
       "      <td>16</td>\n",
       "      <td>...</td>\n",
       "      <td>0</td>\n",
       "      <td>0</td>\n",
       "      <td>0</td>\n",
       "      <td>0</td>\n",
       "      <td>0</td>\n",
       "      <td>0</td>\n",
       "      <td>0</td>\n",
       "      <td>1</td>\n",
       "      <td>PHI_WAS_2021-01-03 20:20:00</td>\n",
       "      <td>2020</td>\n",
       "    </tr>\n",
       "    <tr>\n",
       "      <th>7859</th>\n",
       "      <td>6</td>\n",
       "      <td>12.0</td>\n",
       "      <td>-3.5</td>\n",
       "      <td>2020</td>\n",
       "      <td>13</td>\n",
       "      <td>13</td>\n",
       "      <td>31</td>\n",
       "      <td>26</td>\n",
       "      <td>23</td>\n",
       "      <td>17</td>\n",
       "      <td>...</td>\n",
       "      <td>0</td>\n",
       "      <td>0</td>\n",
       "      <td>1</td>\n",
       "      <td>0</td>\n",
       "      <td>0</td>\n",
       "      <td>0</td>\n",
       "      <td>0</td>\n",
       "      <td>1</td>\n",
       "      <td>PHI_WAS_2021-01-03 20:20:00</td>\n",
       "      <td>2020</td>\n",
       "    </tr>\n",
       "    <tr>\n",
       "      <th>7891</th>\n",
       "      <td>8</td>\n",
       "      <td>11.0</td>\n",
       "      <td>-5.5</td>\n",
       "      <td>2020</td>\n",
       "      <td>14</td>\n",
       "      <td>14</td>\n",
       "      <td>31</td>\n",
       "      <td>28</td>\n",
       "      <td>23</td>\n",
       "      <td>15</td>\n",
       "      <td>...</td>\n",
       "      <td>0</td>\n",
       "      <td>0</td>\n",
       "      <td>1</td>\n",
       "      <td>0</td>\n",
       "      <td>0</td>\n",
       "      <td>0</td>\n",
       "      <td>0</td>\n",
       "      <td>1</td>\n",
       "      <td>PHI_WAS_2021-01-03 20:20:00</td>\n",
       "      <td>2020</td>\n",
       "    </tr>\n",
       "    <tr>\n",
       "      <th>7923</th>\n",
       "      <td>-5</td>\n",
       "      <td>1.0</td>\n",
       "      <td>-9.0</td>\n",
       "      <td>2020</td>\n",
       "      <td>15</td>\n",
       "      <td>15</td>\n",
       "      <td>31</td>\n",
       "      <td>27</td>\n",
       "      <td>15</td>\n",
       "      <td>20</td>\n",
       "      <td>...</td>\n",
       "      <td>0</td>\n",
       "      <td>0</td>\n",
       "      <td>1</td>\n",
       "      <td>0</td>\n",
       "      <td>0</td>\n",
       "      <td>0</td>\n",
       "      <td>0</td>\n",
       "      <td>1</td>\n",
       "      <td>PHI_WAS_2021-01-03 20:20:00</td>\n",
       "      <td>2020</td>\n",
       "    </tr>\n",
       "    <tr>\n",
       "      <th>7955</th>\n",
       "      <td>-7</td>\n",
       "      <td>-6.0</td>\n",
       "      <td>-9.0</td>\n",
       "      <td>2020</td>\n",
       "      <td>16</td>\n",
       "      <td>16</td>\n",
       "      <td>31</td>\n",
       "      <td>4</td>\n",
       "      <td>13</td>\n",
       "      <td>20</td>\n",
       "      <td>...</td>\n",
       "      <td>0</td>\n",
       "      <td>0</td>\n",
       "      <td>1</td>\n",
       "      <td>0</td>\n",
       "      <td>0</td>\n",
       "      <td>0</td>\n",
       "      <td>0</td>\n",
       "      <td>0</td>\n",
       "      <td>PHI_WAS_2021-01-03 20:20:00</td>\n",
       "      <td>2020</td>\n",
       "    </tr>\n",
       "  </tbody>\n",
       "</table>\n",
       "<p>24 rows × 211 columns</p>\n",
       "</div>"
      ],
      "text/plain": [
       "      WinLossMargin  SpreadWinLossMargin  OverUnderMargin  Season  Week  \\\n",
       "7597              5                 13.5             -0.5    2020     4   \n",
       "7623             -9                 -1.5             23.0    2020     5   \n",
       "7652             -2                  8.0             11.5    2020     6   \n",
       "7679              1                 -4.0             -1.5    2020     7   \n",
       "7708             14                  4.0            -11.0    2020     8   \n",
       "7763            -10                -14.5             -1.5    2020    10   \n",
       "7792             -5                 -2.5             -6.5    2020    11   \n",
       "7823             -6                  0.5             -9.5    2020    12   \n",
       "7854            -14                 -6.0             -3.5    2020    13   \n",
       "7885              3                 10.5              2.5    2020    14   \n",
       "7917             -7                 -1.0              9.5    2020    15   \n",
       "7949            -20                -23.5              3.5    2020    16   \n",
       "7601            -14                  0.0              3.0    2020     4   \n",
       "7629            -20                -12.5             -5.0    2020     5   \n",
       "7657             -1                  1.0             -3.0    2020     6   \n",
       "7685             22                 21.0            -16.5    2020     7   \n",
       "7741             -3                 -6.0              0.0    2020     9   \n",
       "7769             -3                 -0.5             11.0    2020    10   \n",
       "7797             11                  9.5            -19.0    2020    11   \n",
       "7829             25                 28.0             11.0    2020    12   \n",
       "7859              6                 12.0             -3.5    2020    13   \n",
       "7891              8                 11.0             -5.5    2020    14   \n",
       "7923             -5                  1.0             -9.0    2020    15   \n",
       "7955             -7                 -6.0             -9.0    2020    16   \n",
       "\n",
       "      RunningWeek  Team  Opponent  Points Scored  Points Allowed  ...  \\\n",
       "7597            4    25        28             25              20  ...   \n",
       "7623            5    25        26             29              38  ...   \n",
       "7652            6    25         2             28              30  ...   \n",
       "7679            7    25        23             22              21  ...   \n",
       "7708            8    25         8             23               9  ...   \n",
       "7763           10    25        23             17              27  ...   \n",
       "7792           11    25         7             17              22  ...   \n",
       "7823           12    25        27             17              23  ...   \n",
       "7854           13    25        11             16              30  ...   \n",
       "7885           14    25        22             24              21  ...   \n",
       "7917           15    25         0             26              33  ...   \n",
       "7949           16    25         8             17              37  ...   \n",
       "7601            4    31         2             17              31  ...   \n",
       "7629            5    31        17             10              30  ...   \n",
       "7657            6    31        23             19              20  ...   \n",
       "7685            7    31         8             25               3  ...   \n",
       "7741            9    31        23             20              23  ...   \n",
       "7769           10    31        10             27              30  ...   \n",
       "7797           11    31         6             20               9  ...   \n",
       "7829           12    31         8             41              16  ...   \n",
       "7859           13    31        26             23              17  ...   \n",
       "7891           14    31        28             23              15  ...   \n",
       "7923           15    31        27             15              20  ...   \n",
       "7955           16    31         4             13              20  ...   \n",
       "\n",
       "      PlayingSurface_Dome  PlayingSurface_FieldTurf  PlayingSurface_Grass  \\\n",
       "7597                    0                         0                     1   \n",
       "7623                    0                         0                     1   \n",
       "7652                    0                         0                     1   \n",
       "7679                    0                         0                     1   \n",
       "7708                    0                         0                     1   \n",
       "7763                    0                         0                     0   \n",
       "7792                    0                         0                     1   \n",
       "7823                    0                         0                     1   \n",
       "7854                    0                         0                     1   \n",
       "7885                    0                         0                     1   \n",
       "7917                    0                         0                     1   \n",
       "7949                    0                         0                     0   \n",
       "7601                    0                         0                     1   \n",
       "7629                    0                         0                     1   \n",
       "7657                    0                         0                     0   \n",
       "7685                    0                         0                     1   \n",
       "7741                    0                         0                     1   \n",
       "7769                    0                         0                     0   \n",
       "7797                    0                         0                     1   \n",
       "7829                    0                         0                     0   \n",
       "7859                    0                         0                     1   \n",
       "7891                    0                         0                     1   \n",
       "7923                    0                         0                     1   \n",
       "7955                    0                         0                     1   \n",
       "\n",
       "      PlayingSurface_Natural Grass  FavoriteUnderdog_Favorite  \\\n",
       "7597                             0                          0   \n",
       "7623                             0                          0   \n",
       "7652                             0                          0   \n",
       "7679                             0                          1   \n",
       "7708                             0                          1   \n",
       "7763                             0                          1   \n",
       "7792                             0                          0   \n",
       "7823                             0                          0   \n",
       "7854                             0                          0   \n",
       "7885                             0                          0   \n",
       "7917                             0                          0   \n",
       "7949                             0                          1   \n",
       "7601                             0                          0   \n",
       "7629                             0                          0   \n",
       "7657                             0                          0   \n",
       "7685                             0                          1   \n",
       "7741                             0                          1   \n",
       "7769                             0                          0   \n",
       "7797                             0                          1   \n",
       "7829                             0                          0   \n",
       "7859                             0                          0   \n",
       "7891                             0                          0   \n",
       "7923                             0                          0   \n",
       "7955                             0                          0   \n",
       "\n",
       "      FavoriteUnderdog_Pick-Em  SpreadWinLoss_Tie  SpreadWinLoss_Win  \\\n",
       "7597                         0                  0                  1   \n",
       "7623                         0                  0                  0   \n",
       "7652                         0                  0                  1   \n",
       "7679                         0                  0                  0   \n",
       "7708                         0                  0                  1   \n",
       "7763                         0                  0                  0   \n",
       "7792                         0                  0                  0   \n",
       "7823                         0                  0                  1   \n",
       "7854                         0                  0                  0   \n",
       "7885                         0                  0                  1   \n",
       "7917                         0                  0                  0   \n",
       "7949                         0                  0                  0   \n",
       "7601                         0                  1                  0   \n",
       "7629                         0                  0                  0   \n",
       "7657                         0                  0                  1   \n",
       "7685                         0                  0                  1   \n",
       "7741                         0                  0                  0   \n",
       "7769                         0                  0                  0   \n",
       "7797                         0                  0                  1   \n",
       "7829                         0                  0                  1   \n",
       "7859                         0                  0                  1   \n",
       "7891                         0                  0                  1   \n",
       "7923                         0                  0                  1   \n",
       "7955                         0                  0                  0   \n",
       "\n",
       "                      SampleIndex  PredictionSeason  \n",
       "7597  PHI_WAS_2021-01-03 20:20:00              2020  \n",
       "7623  PHI_WAS_2021-01-03 20:20:00              2020  \n",
       "7652  PHI_WAS_2021-01-03 20:20:00              2020  \n",
       "7679  PHI_WAS_2021-01-03 20:20:00              2020  \n",
       "7708  PHI_WAS_2021-01-03 20:20:00              2020  \n",
       "7763  PHI_WAS_2021-01-03 20:20:00              2020  \n",
       "7792  PHI_WAS_2021-01-03 20:20:00              2020  \n",
       "7823  PHI_WAS_2021-01-03 20:20:00              2020  \n",
       "7854  PHI_WAS_2021-01-03 20:20:00              2020  \n",
       "7885  PHI_WAS_2021-01-03 20:20:00              2020  \n",
       "7917  PHI_WAS_2021-01-03 20:20:00              2020  \n",
       "7949  PHI_WAS_2021-01-03 20:20:00              2020  \n",
       "7601  PHI_WAS_2021-01-03 20:20:00              2020  \n",
       "7629  PHI_WAS_2021-01-03 20:20:00              2020  \n",
       "7657  PHI_WAS_2021-01-03 20:20:00              2020  \n",
       "7685  PHI_WAS_2021-01-03 20:20:00              2020  \n",
       "7741  PHI_WAS_2021-01-03 20:20:00              2020  \n",
       "7769  PHI_WAS_2021-01-03 20:20:00              2020  \n",
       "7797  PHI_WAS_2021-01-03 20:20:00              2020  \n",
       "7829  PHI_WAS_2021-01-03 20:20:00              2020  \n",
       "7859  PHI_WAS_2021-01-03 20:20:00              2020  \n",
       "7891  PHI_WAS_2021-01-03 20:20:00              2020  \n",
       "7923  PHI_WAS_2021-01-03 20:20:00              2020  \n",
       "7955  PHI_WAS_2021-01-03 20:20:00              2020  \n",
       "\n",
       "[24 rows x 211 columns]"
      ]
     },
     "execution_count": 41,
     "metadata": {},
     "output_type": "execute_result"
    }
   ],
   "source": [
    "X.iloc[-1]"
   ]
  },
  {
   "cell_type": "code",
   "execution_count": 42,
   "metadata": {},
   "outputs": [
    {
     "data": {
      "text/plain": [
       "0.0"
      ]
     },
     "execution_count": 42,
     "metadata": {},
     "output_type": "execute_result"
    }
   ],
   "source": [
    "y.iloc[-1]"
   ]
  },
  {
   "cell_type": "code",
   "execution_count": 43,
   "metadata": {},
   "outputs": [
    {
     "data": {
      "text/html": [
       "<div>\n",
       "<style scoped>\n",
       "    .dataframe tbody tr th:only-of-type {\n",
       "        vertical-align: middle;\n",
       "    }\n",
       "\n",
       "    .dataframe tbody tr th {\n",
       "        vertical-align: top;\n",
       "    }\n",
       "\n",
       "    .dataframe thead th {\n",
       "        text-align: right;\n",
       "    }\n",
       "</style>\n",
       "<table border=\"1\" class=\"dataframe\">\n",
       "  <thead>\n",
       "    <tr style=\"text-align: right;\">\n",
       "      <th></th>\n",
       "      <th>Team</th>\n",
       "      <th>Opponent</th>\n",
       "      <th>Date</th>\n",
       "      <th>MoneyLineWinLoss</th>\n",
       "    </tr>\n",
       "  </thead>\n",
       "  <tbody>\n",
       "    <tr>\n",
       "      <th>7981</th>\n",
       "      <td>PHI</td>\n",
       "      <td>WAS</td>\n",
       "      <td>2021-01-03 20:20:00</td>\n",
       "      <td>0</td>\n",
       "    </tr>\n",
       "  </tbody>\n",
       "</table>\n",
       "</div>"
      ],
      "text/plain": [
       "     Team Opponent                Date MoneyLineWinLoss\n",
       "7981  PHI      WAS 2021-01-03 20:20:00                0"
      ]
     },
     "execution_count": 43,
     "metadata": {},
     "output_type": "execute_result"
    }
   ],
   "source": [
    "sorted_df.iloc[-2].to_frame().T[['Team', 'Opponent', 'Date', 'MoneyLineWinLoss']]"
   ]
  },
  {
   "cell_type": "markdown",
   "metadata": {},
   "source": [
    "### Creating Training and Testing sets"
   ]
  },
  {
   "cell_type": "code",
   "execution_count": 44,
   "metadata": {},
   "outputs": [
    {
     "name": "stdout",
     "output_type": "stream",
     "text": [
      "Train-test split: 78.75/21.25\n"
     ]
    }
   ],
   "source": [
    "PredictionSeason_series = pd.Series([df['PredictionSeason'].iloc[-1] for df in X])\n",
    "split = len(PredictionSeason_series[PredictionSeason_series > 2017]) / len(PredictionSeason_series)\n",
    "print(f'Train-test split: {round(100*(1-split),2)}/{round(100*split,2)}')\n",
    "X_train, X_test, y_train, y_test = train_test_split(X, y, test_size=split, shuffle=False)\n",
    "X_train = pd.concat(X_train.values.tolist()).drop(columns='SampleIndex')\n",
    "X_test = pd.concat(X_test.values.tolist()).drop(columns='SampleIndex')"
   ]
  },
  {
   "cell_type": "code",
   "execution_count": 45,
   "metadata": {},
   "outputs": [
    {
     "data": {
      "text/plain": [
       "2006    1536\n",
       "2007    6144\n",
       "2008    6120\n",
       "2009    6144\n",
       "2010    6144\n",
       "2011    6144\n",
       "2012    6120\n",
       "2013    4992\n",
       "2014    6120\n",
       "2015    6144\n",
       "2016    6096\n",
       "2017    6144\n",
       "Name: PredictionSeason, dtype: int64"
      ]
     },
     "execution_count": 45,
     "metadata": {},
     "output_type": "execute_result"
    }
   ],
   "source": [
    "X_train['PredictionSeason'].value_counts().sort_index()"
   ]
  },
  {
   "cell_type": "code",
   "execution_count": 46,
   "metadata": {},
   "outputs": [
    {
     "data": {
      "text/plain": [
       "2018    6096\n",
       "2019    6096\n",
       "2020    6120\n",
       "Name: PredictionSeason, dtype: int64"
      ]
     },
     "execution_count": 46,
     "metadata": {},
     "output_type": "execute_result"
    }
   ],
   "source": [
    "X_test['PredictionSeason'].value_counts().sort_index()"
   ]
  },
  {
   "cell_type": "markdown",
   "metadata": {},
   "source": [
    "Although none of the samples are directly repeated, some games will have been seen during training which exists in testing."
   ]
  },
  {
   "cell_type": "code",
   "execution_count": 47,
   "metadata": {},
   "outputs": [
    {
     "name": "stdout",
     "output_type": "stream",
     "text": [
      "(67848, 210)\n",
      "(18312, 210)\n"
     ]
    }
   ],
   "source": [
    "print(X_train.shape)\n",
    "print(X_test.shape)"
   ]
  },
  {
   "cell_type": "code",
   "execution_count": 48,
   "metadata": {},
   "outputs": [
    {
     "data": {
      "text/plain": [
       "1.0    1445\n",
       "0.0    1382\n",
       "dtype: int64"
      ]
     },
     "execution_count": 48,
     "metadata": {},
     "output_type": "execute_result"
    }
   ],
   "source": [
    "y_train.value_counts()"
   ]
  },
  {
   "cell_type": "code",
   "execution_count": 49,
   "metadata": {},
   "outputs": [
    {
     "data": {
      "image/png": "[encoded data removed]",
      "text/plain": [
       "<Figure size 576x288 with 2 Axes>"
      ]
     },
     "metadata": {},
     "output_type": "display_data"
    }
   ],
   "source": [
    "fig, (ax1, ax2) = plt.subplots(1, 2, figsize=(8,4))\n",
    "y_train_display = y_train.apply(lambda x: 'Win' if x else 'Loss')\n",
    "ax1 = y_train_display.value_counts().sort_index().plot(\n",
    "    kind='pie', \n",
    "    autopct=\"%1.1f%%\", \n",
    "    ylabel='', \n",
    "    ax=ax1, \n",
    "    colors=palette.binary_colors[::-1], \n",
    "    textprops={'color': 'white', 'fontsize': '11', 'weight': 'bold'}\n",
    ");\n",
    "ax1.set_title('Training', fontsize=14)\n",
    "\n",
    "y_test_display = y_test.apply(lambda x: 'Win' if x else 'Loss')\n",
    "ax2 = y_test_display.value_counts().sort_index().plot(\n",
    "    kind='pie', \n",
    "    autopct=\"%1.1f%%\", \n",
    "    ylabel='', \n",
    "    ax=ax2,\n",
    "    colors=palette.binary_colors[::-1], \n",
    "    textprops={'color': 'white', 'fontsize': '11', 'weight': 'bold'}\n",
    ");\n",
    "ax2.set_title('Testing', fontsize=14)\n",
    "\n",
    "# fig.tight_layout() \n",
    "fig.subplots_adjust(hspace=0.1)   ##  Need to play with this number.\n",
    "fig.legend(labels=['Loss', 'Win'], loc=\"lower center\", ncol=2)\n",
    "\n",
    "plt.suptitle('Label Distribution', fontsize=18)\n",
    "plt.subplots_adjust(top=0.65)\n",
    "plt.show()"
   ]
  },
  {
   "cell_type": "markdown",
   "metadata": {},
   "source": [
    "Only slight offset between labels, should not be a significant factor for model performance."
   ]
  },
  {
   "cell_type": "code",
   "execution_count": 50,
   "metadata": {},
   "outputs": [],
   "source": [
    "y_train = y_train.to_numpy().reshape(-1,1)\n",
    "y_test = y_test.to_numpy().reshape(-1,1)"
   ]
  },
  {
   "cell_type": "code",
   "execution_count": 51,
   "metadata": {},
   "outputs": [
    {
     "name": "stdout",
     "output_type": "stream",
     "text": [
      "(2827, 1)\n",
      "(763, 1)\n"
     ]
    }
   ],
   "source": [
    "print(y_train.shape)\n",
    "print(y_test.shape)"
   ]
  },
  {
   "cell_type": "markdown",
   "metadata": {},
   "source": [
    "### Apply data scaling\n",
    "\"*...if test and train datasets are normalized together, then the sample mean and variance used for normalization is a function of the test dataset and thus leakage has occured.*\" - **\"Using AntiPatterns to avoid MLOps Mistakes\" (3.1.4)**"
   ]
  },
  {
   "cell_type": "code",
   "execution_count": 52,
   "metadata": {},
   "outputs": [
    {
     "data": {
      "application/vnd.jupyter.widget-view+json": {
       "model_id": "6be5d11ca3a74870908cf72327d08f64",
       "version_major": 2,
       "version_minor": 0
      },
      "text/plain": [
       "Scaling features:   0%|          | 0/210 [00:00<?, ?it/s]"
      ]
     },
     "metadata": {},
     "output_type": "display_data"
    }
   ],
   "source": [
    "scalers = {}\n",
    "\n",
    "for col in tqdm(X_train.columns, desc='Scaling features', colour=palette.colors[0]):\n",
    "    train_scaler = MinMaxScaler()\n",
    "    s_s = train_scaler.fit_transform(X_train[col].values.reshape(-1,1))\n",
    "    s_s = np.reshape(s_s,len(s_s))\n",
    "    scalers['train_scaler_' + col] = train_scaler\n",
    "    X_train[col] = s_s\n",
    "    \n",
    "    test_scaler = MinMaxScaler()\n",
    "    s_s = test_scaler.fit_transform(X_test[col].values.reshape(-1,1))\n",
    "    s_s = np.reshape(s_s,len(s_s))\n",
    "    scalers['test_scaler_' + col] = test_scaler\n",
    "    X_test[col] = s_s"
   ]
  },
  {
   "cell_type": "markdown",
   "metadata": {},
   "source": [
    "### Transform data back into groups"
   ]
  },
  {
   "cell_type": "markdown",
   "metadata": {},
   "source": [
    "The data needs to be regrouped for training purposes."
   ]
  },
  {
   "cell_type": "code",
   "execution_count": 53,
   "metadata": {},
   "outputs": [],
   "source": [
    "columns = X_train.columns\n",
    "X_train = X_train.values.reshape(-1, window_size*2, X_train.shape[-1])\n",
    "X_test = X_test.values.reshape(-1, window_size*2, X_test.shape[-1])"
   ]
  },
  {
   "cell_type": "code",
   "execution_count": 54,
   "metadata": {},
   "outputs": [
    {
     "name": "stdout",
     "output_type": "stream",
     "text": [
      "(2827, 24, 210)\n",
      "(763, 24, 210)\n",
      "(2827, 1)\n",
      "(763, 1)\n"
     ]
    }
   ],
   "source": [
    "print(X_train.shape)\n",
    "print(X_test.shape)\n",
    "print(y_train.shape)\n",
    "print(y_test.shape)"
   ]
  },
  {
   "cell_type": "markdown",
   "metadata": {},
   "source": [
    "### Define PyTorch Dataset Class"
   ]
  },
  {
   "cell_type": "code",
   "execution_count": 55,
   "metadata": {},
   "outputs": [],
   "source": [
    "class NFLDataset(Dataset):\n",
    "\n",
    "    def __init__(self, X, y, columns=[]):\n",
    "        super(NFLDataset, self).__init__()\n",
    "        assert len(X) == len(y), 'Length of X and y must be the same'\n",
    "        self.X = X\n",
    "        self.y = y\n",
    "        self.columns = columns\n",
    "\n",
    "    def __len__(self):\n",
    "        return len(self.X)\n",
    "\n",
    "    def __getitem__(self, idx):\n",
    "        window = self.X[idx]\n",
    "        label = self.y[idx]\n",
    "        return torch.as_tensor(window).float(), torch.as_tensor(label).float()\n",
    "\n",
    "    def toPandas(self):\n",
    "        return pd.DataFrame(self.X.reshape((-1, len(self.columns))), columns=self.columns)"
   ]
  },
  {
   "cell_type": "markdown",
   "metadata": {},
   "source": [
    "## Time Series Model"
   ]
  },
  {
   "cell_type": "markdown",
   "metadata": {},
   "source": [
    "### Define a Bidirectional RNN classification architecture"
   ]
  },
  {
   "cell_type": "code",
   "execution_count": 56,
   "metadata": {},
   "outputs": [],
   "source": [
    "class BidirectionalRNN(nn.Module):\n",
    "\n",
    "    def __init__(self, input_dim, hidden_dim, output_dim=1, num_layers=2, rnn_type='LSTM', dropout=0.2):\n",
    "        super().__init__()\n",
    "        self.input_dim = input_dim\n",
    "        self.hidden_dim = hidden_dim\n",
    "        self.output_dim = output_dim\n",
    "        self.rnn_type = rnn_type\n",
    "        self.num_layers = num_layers\n",
    "        self.dropout = dropout\n",
    "\n",
    "        self.lstm = eval('nn.' + self.rnn_type)(\n",
    "            input_size=self.input_dim, \n",
    "            hidden_size=self.hidden_dim, \n",
    "            num_layers=self.num_layers,  \n",
    "            dropout=self.dropout,\n",
    "            batch_first=True,\n",
    "            bidirectional=True\n",
    "        )\n",
    "\n",
    "        self.linear = nn.Linear(self.hidden_dim, self.output_dim)\n",
    "\n",
    "    def forward(self, x):\n",
    "        self.lstm.flatten_parameters()\n",
    "        _, (hidden, _) = self.lstm(x)\n",
    "        out = hidden[-1]\n",
    "        out = self.linear(out)\n",
    "        return out"
   ]
  },
  {
   "cell_type": "markdown",
   "metadata": {},
   "source": [
    "### Setup datasets for the model"
   ]
  },
  {
   "cell_type": "code",
   "execution_count": 57,
   "metadata": {},
   "outputs": [],
   "source": [
    "train_dataset = NFLDataset(X_train, y_train, columns=columns)\n",
    "test_dataset = NFLDataset(X_test, y_test, columns=columns)"
   ]
  },
  {
   "cell_type": "markdown",
   "metadata": {},
   "source": [
    "### Setup the model and optimizer"
   ]
  },
  {
   "cell_type": "code",
   "execution_count": 58,
   "metadata": {},
   "outputs": [],
   "source": [
    "INPUT_SIZE = X_train.shape[-1]\n",
    "OUTPUT_SIZE = 1\n",
    "NUMBER_OF_LAYERS = 2\n",
    "\n",
    "# TODO: hpo\n",
    "HIDDEN_STATE_SIZE = 64\n",
    "RNN_TYPE = 'LSTM'\n",
    "DROPOUT = 0.25\n",
    "\n",
    "model = BidirectionalRNN(\n",
    "    INPUT_SIZE,\n",
    "    HIDDEN_STATE_SIZE,\n",
    "    OUTPUT_SIZE,\n",
    "    NUMBER_OF_LAYERS,\n",
    "    RNN_TYPE,\n",
    "    DROPOUT\n",
    ")\n",
    "\n",
    "# TODO: hpo\n",
    "LEARNING_RATE = 0.001\n",
    "\n",
    "optimizer = optim.Adam(model.parameters(), lr=LEARNING_RATE)"
   ]
  },
  {
   "cell_type": "markdown",
   "metadata": {},
   "source": [
    "### Train the Model"
   ]
  },
  {
   "cell_type": "code",
   "execution_count": 59,
   "metadata": {},
   "outputs": [],
   "source": [
    "def plot_seasonal_metrics(model, dataset, ds_type='train', ax=None):\n",
    "    df = dataset.toPandas()\n",
    "    seasonal_metrics_arr = []\n",
    "    \n",
    "    for ps in df['PredictionSeason'].unique():\n",
    "        season = int(scalers[ds_type + '_scaler_PredictionSeason'].inverse_transform([[ps]])[0,0])\n",
    "        mask = df['PredictionSeason'] == ps\n",
    "        ps_df = df[mask]\n",
    "        ps_X = ps_df.values.reshape(-1, window_size*2, X_train.shape[-1])\n",
    "        ps_y = dataset.y[mask[::window_size*2]]\n",
    "        ps_dataset = NFLDataset(ps_X, ps_y)\n",
    "        ps_dataloader = DataLoader(ps_dataset, shuffle=False, batch_size=1024)\n",
    "        \n",
    "        ps_acc = 0\n",
    "        \n",
    "        for samples, labels in ps_dataloader:\n",
    "            preds =  torch.round(torch.sigmoid(model(samples)))\n",
    "            labels_np, preds_np = labels.detach().numpy(), preds.detach().numpy()\n",
    "            ps_acc += balanced_accuracy_score(labels_np, preds_np)\n",
    "            \n",
    "        seasonal_metrics_arr.append({\n",
    "            'Season': season, \n",
    "            'BalancedAccuracy (%)': (ps_acc/len(ps_dataloader)) * 100\n",
    "        })\n",
    "\n",
    "    seasonal_metrics_df = pd.DataFrame(seasonal_metrics_arr)\n",
    "\n",
    "    sns.set(rc={'figure.figsize':(12,8)})\n",
    "    ax = sns.barplot(data=seasonal_metrics_df, x='Season', y='BalancedAccuracy (%)', color=palette.colors[1], ci=None, ax=None)\n",
    "    # ax = plotting.perc(ax, 100, color='white', height=0.2)\n",
    "    ax = plotting.change_width(ax, 0.95)\n",
    "    ax.set_ylim([0, 100])\n",
    "    ax.set_title('Balanced Accuracy (%) by Season', fontsize=16)\n",
    "    plt.axhline(y = 70, color = palette.critical_colors[1], linestyle = 'dashed', label = \"Competitive Threshold\")\n",
    "    return ax"
   ]
  },
  {
   "cell_type": "code",
   "execution_count": 60,
   "metadata": {},
   "outputs": [],
   "source": [
    "def train(model, optimizer, train, test, loss_fn, epochs, batch_size):\n",
    "    loss_fn = getattr(nn.functional, loss_fn)\n",
    "    history = {'train_loss': [], 'test_loss': [], 'train_acc': [], 'test_acc': []}\n",
    "    \n",
    "    fig = plt.figure()\n",
    "    train_camera = Camera(fig)\n",
    "    \n",
    "    train_dataloader = DataLoader(train, batch_size=batch_size, shuffle=True)\n",
    "    test_dataloader = DataLoader(test, batch_size=batch_size, shuffle=True)\n",
    "    model = model.to(device)\n",
    "\n",
    "    for epoch in trange(epochs, colour=palette.colors[0], desc='Epochs'):\n",
    "        epoch_train_loss = 0\n",
    "        epoch_test_loss = 0\n",
    "        epoch_train_acc = 0\n",
    "        epoch_test_acc = 0\n",
    "\n",
    "        for samples, labels in train_dataloader:\n",
    "            samples = samples.to(device)\n",
    "            labels = labels.to(device)\n",
    "\n",
    "            optimizer.zero_grad()\n",
    "            raw_preds = model(samples)\n",
    "            train_loss = loss_fn(raw_preds, labels)\n",
    "            epoch_train_loss += train_loss.item()\n",
    "            \n",
    "            bin_preds = torch.round(torch.sigmoid(raw_preds))\n",
    "            labels_np, bin_preds_np = labels.detach().numpy(), bin_preds.detach().numpy()\n",
    "            epoch_train_acc += balanced_accuracy_score(labels_np, bin_preds_np)\n",
    "\n",
    "            train_loss.backward()\n",
    "            optimizer.step()\n",
    "\n",
    "        for samples, labels in test_dataloader:\n",
    "            samples = samples.to(device)\n",
    "            labels = labels.to(device)\n",
    "\n",
    "            raw_preds = model(samples)\n",
    "            test_loss = loss_fn(raw_preds, labels)\n",
    "            epoch_test_loss += test_loss.item()\n",
    "            \n",
    "            bin_preds = torch.round(torch.sigmoid(raw_preds))\n",
    "            labels_np, bin_preds_np = labels.detach().numpy(), bin_preds.detach().numpy()\n",
    "            epoch_test_acc += balanced_accuracy_score(labels_np, bin_preds_np)\n",
    "\n",
    "        history['train_loss'].append(epoch_train_loss/len(train_dataloader))\n",
    "        history['train_acc'].append(epoch_train_acc/len(train_dataloader))\n",
    "        history['test_loss'].append(epoch_test_loss/len(test_dataloader))\n",
    "        history['test_acc'].append(epoch_test_acc/len(test_dataloader))\n",
    "        print(f\"[{epoch+1}] train loss: {epoch_train_loss/len(train_dataloader)} train acc: {epoch_train_acc/len(train_dataloader)} test loss: {epoch_test_loss/len(test_dataloader)} test acc: {epoch_test_acc/len(test_dataloader)}\")\n",
    "        \n",
    "        ax = plot_seasonal_metrics(model, train)\n",
    "        ax.text(0.5, 1.01, f'Epoch: {epoch+1}', transform=ax.transAxes, horizontalalignment='center')\n",
    "        train_camera.snap()\n",
    "    \n",
    "    train_animation = train_camera.animate(interval=600)  \n",
    "    train_animation.save('training_seasonal_accuracy.gif', writer ='imagemagick')\n",
    "    plt.close()\n",
    "    \n",
    "    return history, train_animation"
   ]
  },
  {
   "cell_type": "code",
   "execution_count": 61,
   "metadata": {},
   "outputs": [
    {
     "ename": "RuntimeError",
     "evalue": "CUDA error: no kernel image is available for execution on the device\nCUDA kernel errors might be asynchronously reported at some other API call,so the stacktrace below might be incorrect.\nFor debugging consider passing CUDA_LAUNCH_BLOCKING=1.",
     "output_type": "error",
     "traceback": [
      "\u001b[0;31m---------------------------------------------------------------------------\u001b[0m",
      "\u001b[0;31mRuntimeError\u001b[0m                              Traceback (most recent call last)",
      "\u001b[0;32m/tmp/ipykernel_16126/3738383167.py\u001b[0m in \u001b[0;36m<module>\u001b[0;34m\u001b[0m\n\u001b[1;32m      4\u001b[0m \u001b[0mBATCH_SIZE\u001b[0m \u001b[0;34m=\u001b[0m \u001b[0;36m32\u001b[0m\u001b[0;34m\u001b[0m\u001b[0;34m\u001b[0m\u001b[0m\n\u001b[1;32m      5\u001b[0m \u001b[0;34m\u001b[0m\u001b[0m\n\u001b[0;32m----> 6\u001b[0;31m \u001b[0mhistory\u001b[0m\u001b[0;34m,\u001b[0m \u001b[0mtrain_animation\u001b[0m \u001b[0;34m=\u001b[0m \u001b[0mtrain\u001b[0m\u001b[0;34m(\u001b[0m\u001b[0mmodel\u001b[0m\u001b[0;34m,\u001b[0m \u001b[0moptimizer\u001b[0m\u001b[0;34m,\u001b[0m \u001b[0mtrain_dataset\u001b[0m\u001b[0;34m,\u001b[0m \u001b[0mtest_dataset\u001b[0m\u001b[0;34m,\u001b[0m \u001b[0mLOSS_FN\u001b[0m\u001b[0;34m,\u001b[0m \u001b[0mEPOCHS\u001b[0m\u001b[0;34m,\u001b[0m \u001b[0mBATCH_SIZE\u001b[0m\u001b[0;34m)\u001b[0m\u001b[0;34m\u001b[0m\u001b[0;34m\u001b[0m\u001b[0m\n\u001b[0m",
      "\u001b[0;32m/tmp/ipykernel_16126/881115426.py\u001b[0m in \u001b[0;36mtrain\u001b[0;34m(model, optimizer, train, test, loss_fn, epochs, batch_size)\u001b[0m\n\u001b[1;32m      8\u001b[0m     \u001b[0mtrain_dataloader\u001b[0m \u001b[0;34m=\u001b[0m \u001b[0mDataLoader\u001b[0m\u001b[0;34m(\u001b[0m\u001b[0mtrain\u001b[0m\u001b[0;34m,\u001b[0m \u001b[0mbatch_size\u001b[0m\u001b[0;34m=\u001b[0m\u001b[0mbatch_size\u001b[0m\u001b[0;34m,\u001b[0m \u001b[0mshuffle\u001b[0m\u001b[0;34m=\u001b[0m\u001b[0;32mTrue\u001b[0m\u001b[0;34m)\u001b[0m\u001b[0;34m\u001b[0m\u001b[0;34m\u001b[0m\u001b[0m\n\u001b[1;32m      9\u001b[0m     \u001b[0mtest_dataloader\u001b[0m \u001b[0;34m=\u001b[0m \u001b[0mDataLoader\u001b[0m\u001b[0;34m(\u001b[0m\u001b[0mtest\u001b[0m\u001b[0;34m,\u001b[0m \u001b[0mbatch_size\u001b[0m\u001b[0;34m=\u001b[0m\u001b[0mbatch_size\u001b[0m\u001b[0;34m,\u001b[0m \u001b[0mshuffle\u001b[0m\u001b[0;34m=\u001b[0m\u001b[0;32mTrue\u001b[0m\u001b[0;34m)\u001b[0m\u001b[0;34m\u001b[0m\u001b[0;34m\u001b[0m\u001b[0m\n\u001b[0;32m---> 10\u001b[0;31m     \u001b[0mmodel\u001b[0m \u001b[0;34m=\u001b[0m \u001b[0mmodel\u001b[0m\u001b[0;34m.\u001b[0m\u001b[0mto\u001b[0m\u001b[0;34m(\u001b[0m\u001b[0mdevice\u001b[0m\u001b[0;34m)\u001b[0m\u001b[0;34m\u001b[0m\u001b[0;34m\u001b[0m\u001b[0m\n\u001b[0m\u001b[1;32m     11\u001b[0m \u001b[0;34m\u001b[0m\u001b[0m\n\u001b[1;32m     12\u001b[0m     \u001b[0;32mfor\u001b[0m \u001b[0mepoch\u001b[0m \u001b[0;32min\u001b[0m \u001b[0mtrange\u001b[0m\u001b[0;34m(\u001b[0m\u001b[0mepochs\u001b[0m\u001b[0;34m,\u001b[0m \u001b[0mcolour\u001b[0m\u001b[0;34m=\u001b[0m\u001b[0mpalette\u001b[0m\u001b[0;34m.\u001b[0m\u001b[0mcolors\u001b[0m\u001b[0;34m[\u001b[0m\u001b[0;36m0\u001b[0m\u001b[0;34m]\u001b[0m\u001b[0;34m,\u001b[0m \u001b[0mdesc\u001b[0m\u001b[0;34m=\u001b[0m\u001b[0;34m'Epochs'\u001b[0m\u001b[0;34m)\u001b[0m\u001b[0;34m:\u001b[0m\u001b[0;34m\u001b[0m\u001b[0;34m\u001b[0m\u001b[0m\n",
      "\u001b[0;32m~/anaconda3/envs/sprtsiq/lib/python3.8/site-packages/torch/nn/modules/module.py\u001b[0m in \u001b[0;36mto\u001b[0;34m(self, *args, **kwargs)\u001b[0m\n\u001b[1;32m    897\u001b[0m             \u001b[0;32mreturn\u001b[0m \u001b[0mt\u001b[0m\u001b[0;34m.\u001b[0m\u001b[0mto\u001b[0m\u001b[0;34m(\u001b[0m\u001b[0mdevice\u001b[0m\u001b[0;34m,\u001b[0m \u001b[0mdtype\u001b[0m \u001b[0;32mif\u001b[0m \u001b[0mt\u001b[0m\u001b[0;34m.\u001b[0m\u001b[0mis_floating_point\u001b[0m\u001b[0;34m(\u001b[0m\u001b[0;34m)\u001b[0m \u001b[0;32mor\u001b[0m \u001b[0mt\u001b[0m\u001b[0;34m.\u001b[0m\u001b[0mis_complex\u001b[0m\u001b[0;34m(\u001b[0m\u001b[0;34m)\u001b[0m \u001b[0;32melse\u001b[0m \u001b[0;32mNone\u001b[0m\u001b[0;34m,\u001b[0m \u001b[0mnon_blocking\u001b[0m\u001b[0;34m)\u001b[0m\u001b[0;34m\u001b[0m\u001b[0;34m\u001b[0m\u001b[0m\n\u001b[1;32m    898\u001b[0m \u001b[0;34m\u001b[0m\u001b[0m\n\u001b[0;32m--> 899\u001b[0;31m         \u001b[0;32mreturn\u001b[0m \u001b[0mself\u001b[0m\u001b[0;34m.\u001b[0m\u001b[0m_apply\u001b[0m\u001b[0;34m(\u001b[0m\u001b[0mconvert\u001b[0m\u001b[0;34m)\u001b[0m\u001b[0;34m\u001b[0m\u001b[0;34m\u001b[0m\u001b[0m\n\u001b[0m\u001b[1;32m    900\u001b[0m \u001b[0;34m\u001b[0m\u001b[0m\n\u001b[1;32m    901\u001b[0m     def register_backward_hook(\n",
      "\u001b[0;32m~/anaconda3/envs/sprtsiq/lib/python3.8/site-packages/torch/nn/modules/module.py\u001b[0m in \u001b[0;36m_apply\u001b[0;34m(self, fn)\u001b[0m\n\u001b[1;32m    568\u001b[0m     \u001b[0;32mdef\u001b[0m \u001b[0m_apply\u001b[0m\u001b[0;34m(\u001b[0m\u001b[0mself\u001b[0m\u001b[0;34m,\u001b[0m \u001b[0mfn\u001b[0m\u001b[0;34m)\u001b[0m\u001b[0;34m:\u001b[0m\u001b[0;34m\u001b[0m\u001b[0;34m\u001b[0m\u001b[0m\n\u001b[1;32m    569\u001b[0m         \u001b[0;32mfor\u001b[0m \u001b[0mmodule\u001b[0m \u001b[0;32min\u001b[0m \u001b[0mself\u001b[0m\u001b[0;34m.\u001b[0m\u001b[0mchildren\u001b[0m\u001b[0;34m(\u001b[0m\u001b[0;34m)\u001b[0m\u001b[0;34m:\u001b[0m\u001b[0;34m\u001b[0m\u001b[0;34m\u001b[0m\u001b[0m\n\u001b[0;32m--> 570\u001b[0;31m             \u001b[0mmodule\u001b[0m\u001b[0;34m.\u001b[0m\u001b[0m_apply\u001b[0m\u001b[0;34m(\u001b[0m\u001b[0mfn\u001b[0m\u001b[0;34m)\u001b[0m\u001b[0;34m\u001b[0m\u001b[0;34m\u001b[0m\u001b[0m\n\u001b[0m\u001b[1;32m    571\u001b[0m \u001b[0;34m\u001b[0m\u001b[0m\n\u001b[1;32m    572\u001b[0m         \u001b[0;32mdef\u001b[0m \u001b[0mcompute_should_use_set_data\u001b[0m\u001b[0;34m(\u001b[0m\u001b[0mtensor\u001b[0m\u001b[0;34m,\u001b[0m \u001b[0mtensor_applied\u001b[0m\u001b[0;34m)\u001b[0m\u001b[0;34m:\u001b[0m\u001b[0;34m\u001b[0m\u001b[0;34m\u001b[0m\u001b[0m\n",
      "\u001b[0;32m~/anaconda3/envs/sprtsiq/lib/python3.8/site-packages/torch/nn/modules/rnn.py\u001b[0m in \u001b[0;36m_apply\u001b[0;34m(self, fn)\u001b[0m\n\u001b[1;32m    187\u001b[0m         \u001b[0mself\u001b[0m\u001b[0;34m.\u001b[0m\u001b[0m_flat_weights\u001b[0m \u001b[0;34m=\u001b[0m \u001b[0;34m[\u001b[0m\u001b[0;34m(\u001b[0m\u001b[0;32mlambda\u001b[0m \u001b[0mwn\u001b[0m\u001b[0;34m:\u001b[0m \u001b[0mgetattr\u001b[0m\u001b[0;34m(\u001b[0m\u001b[0mself\u001b[0m\u001b[0;34m,\u001b[0m \u001b[0mwn\u001b[0m\u001b[0;34m)\u001b[0m \u001b[0;32mif\u001b[0m \u001b[0mhasattr\u001b[0m\u001b[0;34m(\u001b[0m\u001b[0mself\u001b[0m\u001b[0;34m,\u001b[0m \u001b[0mwn\u001b[0m\u001b[0;34m)\u001b[0m \u001b[0;32melse\u001b[0m \u001b[0;32mNone\u001b[0m\u001b[0;34m)\u001b[0m\u001b[0;34m(\u001b[0m\u001b[0mwn\u001b[0m\u001b[0;34m)\u001b[0m \u001b[0;32mfor\u001b[0m \u001b[0mwn\u001b[0m \u001b[0;32min\u001b[0m \u001b[0mself\u001b[0m\u001b[0;34m.\u001b[0m\u001b[0m_flat_weights_names\u001b[0m\u001b[0;34m]\u001b[0m\u001b[0;34m\u001b[0m\u001b[0;34m\u001b[0m\u001b[0m\n\u001b[1;32m    188\u001b[0m         \u001b[0;31m# Flattens params (on CUDA)\u001b[0m\u001b[0;34m\u001b[0m\u001b[0;34m\u001b[0m\u001b[0;34m\u001b[0m\u001b[0m\n\u001b[0;32m--> 189\u001b[0;31m         \u001b[0mself\u001b[0m\u001b[0;34m.\u001b[0m\u001b[0mflatten_parameters\u001b[0m\u001b[0;34m(\u001b[0m\u001b[0;34m)\u001b[0m\u001b[0;34m\u001b[0m\u001b[0;34m\u001b[0m\u001b[0m\n\u001b[0m\u001b[1;32m    190\u001b[0m \u001b[0;34m\u001b[0m\u001b[0m\n\u001b[1;32m    191\u001b[0m         \u001b[0;32mreturn\u001b[0m \u001b[0mret\u001b[0m\u001b[0;34m\u001b[0m\u001b[0;34m\u001b[0m\u001b[0m\n",
      "\u001b[0;32m~/anaconda3/envs/sprtsiq/lib/python3.8/site-packages/torch/nn/modules/rnn.py\u001b[0m in \u001b[0;36mflatten_parameters\u001b[0;34m(self)\u001b[0m\n\u001b[1;32m    173\u001b[0m                     \u001b[0;32mif\u001b[0m \u001b[0mself\u001b[0m\u001b[0;34m.\u001b[0m\u001b[0mproj_size\u001b[0m \u001b[0;34m>\u001b[0m \u001b[0;36m0\u001b[0m\u001b[0;34m:\u001b[0m\u001b[0;34m\u001b[0m\u001b[0;34m\u001b[0m\u001b[0m\n\u001b[1;32m    174\u001b[0m                         \u001b[0mnum_weights\u001b[0m \u001b[0;34m+=\u001b[0m \u001b[0;36m1\u001b[0m\u001b[0;34m\u001b[0m\u001b[0;34m\u001b[0m\u001b[0m\n\u001b[0;32m--> 175\u001b[0;31m                     torch._cudnn_rnn_flatten_weight(\n\u001b[0m\u001b[1;32m    176\u001b[0m                         \u001b[0mself\u001b[0m\u001b[0;34m.\u001b[0m\u001b[0m_flat_weights\u001b[0m\u001b[0;34m,\u001b[0m \u001b[0mnum_weights\u001b[0m\u001b[0;34m,\u001b[0m\u001b[0;34m\u001b[0m\u001b[0;34m\u001b[0m\u001b[0m\n\u001b[1;32m    177\u001b[0m                         \u001b[0mself\u001b[0m\u001b[0;34m.\u001b[0m\u001b[0minput_size\u001b[0m\u001b[0;34m,\u001b[0m \u001b[0mrnn\u001b[0m\u001b[0;34m.\u001b[0m\u001b[0mget_cudnn_mode\u001b[0m\u001b[0;34m(\u001b[0m\u001b[0mself\u001b[0m\u001b[0;34m.\u001b[0m\u001b[0mmode\u001b[0m\u001b[0;34m)\u001b[0m\u001b[0;34m,\u001b[0m\u001b[0;34m\u001b[0m\u001b[0;34m\u001b[0m\u001b[0m\n",
      "\u001b[0;31mRuntimeError\u001b[0m: CUDA error: no kernel image is available for execution on the device\nCUDA kernel errors might be asynchronously reported at some other API call,so the stacktrace below might be incorrect.\nFor debugging consider passing CUDA_LAUNCH_BLOCKING=1."
     ]
    },
    {
     "data": {
      "text/plain": [
       "<Figure size 432x288 with 0 Axes>"
      ]
     },
     "metadata": {},
     "output_type": "display_data"
    }
   ],
   "source": [
    "# TODO: hpo\n",
    "LOSS_FN = 'binary_cross_entropy_with_logits'\n",
    "EPOCHS = 3\n",
    "BATCH_SIZE = 32\n",
    "\n",
    "history, train_animation = train(model, optimizer, train_dataset, test_dataset, LOSS_FN, EPOCHS, BATCH_SIZE)"
   ]
  },
  {
   "cell_type": "code",
   "execution_count": null,
   "metadata": {},
   "outputs": [],
   "source": []
  }
 ],
 "metadata": {
  "interpreter": {
   "hash": "d09d4b74de29afc58f8275678a6f2deaed906f2eac61d332d747c11e0cc26227"
  },
  "kernelspec": {
   "display_name": "sprtsiq",
   "language": "python",
   "name": "python3"
  },
  "language_info": {
   "codemirror_mode": {
    "name": "ipython",
    "version": 3
   },
   "file_extension": ".py",
   "mimetype": "text/x-python",
   "name": "python",
   "nbconvert_exporter": "python",
   "pygments_lexer": "ipython3",
   "version": "3.8.12"
  },
  "orig_nbformat": 4
 },
 "nbformat": 4,
 "nbformat_minor": 2
}
